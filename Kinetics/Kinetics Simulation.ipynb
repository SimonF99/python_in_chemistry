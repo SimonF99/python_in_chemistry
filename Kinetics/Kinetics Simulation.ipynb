{
 "cells": [
  {
   "cell_type": "markdown",
   "metadata": {},
   "source": [
    "## Q4 \n",
    "\n",
    "A reaction with stoichiometry 2A + C $\\to$ D has the following mechanism:\n",
    "\n",
    "\\begin{equation}\n",
    "2\\mathrm{A}\\xrightarrow{k_1}B,\n",
    "\\end{equation}\n",
    "\n",
    "\\begin{equation}\n",
    "\\mathrm{B}+\\mathrm{C}\\xrightarrow{k_2}D.\n",
    "\\end{equation}\n",
    "\n",
    "with rate constants:\n",
    "$k_1 = 0.05$ M<sup>-1</sup> s<sup>-1</sup> and $k_2 = 0.1$ M<sup>-1</sup> s<sup>-1</sup>.\n",
    "\n",
    "The initial concentrations are $\\left[\\mathrm{A}\\right]_0 = 5$ M; $\\left[\\mathrm{B}\\right]_0 = 0$ M; $\\left[\\mathrm{C}\\right]_0 = 1$ M; $\\left[\\mathrm{D}\\right]_0 = 0$ M.\n",
    "\n"
   ]
  },
  {
   "cell_type": "markdown",
   "metadata": {},
   "source": [
    "a)\tWrite differential rate equations for $\\frac{\\mathrm{d}[\\mathrm{A}]}{\\mathrm{d}t}$, $\\frac{\\mathrm{d}[\\mathrm{B}]}{\\mathrm{d}t}$, $\\frac{\\mathrm{d}[\\mathrm{C}]}{\\mathrm{d}t}$ and $\\frac{\\mathrm{d}[\\mathrm{D}]}{\\mathrm{d}t}$."
   ]
  },
  {
   "cell_type": "markdown",
   "metadata": {},
   "source": [
    "## answer\n",
    "\n",
    "\\begin{equation}\n",
    "\\frac{\\mathrm{d}[\\mathrm{A}]}{\\mathrm{d}t} = -2k_1[\\mathrm{A}]^2.\\tag{1}\n",
    "\\end{equation}\n",
    "\n",
    "\\begin{equation}\n",
    "\\frac{\\mathrm{d}[\\mathrm{B}]}{\\mathrm{d}t} = +k_1[\\mathrm{A}]^2 - k_2[\\mathrm{B}][\\mathrm{C}].\\tag{2}\n",
    "\\end{equation}\n",
    "\n",
    "\\begin{equation}\n",
    "\\frac{\\mathrm{d}[\\mathrm{C}]}{\\mathrm{d}t} = -k_2[\\mathrm{B}][\\mathrm{C}].\\tag{3}\n",
    "\\end{equation}\n",
    "\n",
    "\\begin{equation}\n",
    "\\frac{\\mathrm{d}[\\mathrm{D}]}{\\mathrm{d}t} = +k_2[\\mathrm{B}][\\mathrm{C}].\\tag{4}\n",
    "\\end{equation}"
   ]
  },
  {
   "cell_type": "markdown",
   "metadata": {},
   "source": [
    "b)\tWrite expressions for $[\\mathrm{A}]_{t+\\Delta t}$, $[\\mathrm{A}]_{t+\\Delta t}$, $[\\mathrm{A}]_{t+\\Delta t}$, $[\\mathrm{A}]_{t+\\Delta t}$, in terms of $\\Delta t$, $[\\mathrm{A}]_t$, $[\\mathrm{B}]_t$, $[\\mathrm{C}]_t$, and $[\\mathrm{D}]_t$.\n"
   ]
  },
  {
   "cell_type": "markdown",
   "metadata": {},
   "source": [
    "## answer\n",
    "\n",
    "Integrating using the trapezium rule:\n",
    "\n",
    "\\begin{equation}\n",
    "[\\mathrm{A}]_{t+\\Delta t} = [\\mathrm{A}]_t + \\frac{\\mathrm{d}[\\mathrm{A}]}{\\mathrm{d}t}\\cdot\\Delta t\n",
    "\\end{equation}\n",
    "\n",
    "\\begin{equation}\n",
    "[\\mathrm{B}]_{t+\\Delta t} = [\\mathrm{B}]_t + \\frac{\\mathrm{d}[\\mathrm{B}]}{\\mathrm{d}t}\\cdot\\Delta t\n",
    "\\end{equation}\n",
    "\n",
    "\\begin{equation}\n",
    "[\\mathrm{C}]_{t+\\Delta t} = [\\mathrm{C}]_t + \\frac{\\mathrm{d}[\\mathrm{C}]}{\\mathrm{d}t}\\cdot\\Delta t\n",
    "\\end{equation}\n",
    "\n",
    "\\begin{equation}\n",
    "[\\mathrm{D}]_{t+\\Delta t} = [\\mathrm{D}]_t + \\frac{\\mathrm{d}[\\mathrm{D}]}{\\mathrm{d}t}\\cdot\\Delta t\n",
    "\\end{equation}\n",
    "\n",
    "using the rate equations above, these can be written as:\n",
    "\n",
    "\\begin{equation}\n",
    "[\\mathrm{A}]_{t+\\Delta t} = [\\mathrm{A}]_t - 2k_1[\\mathrm{A}]_t^2\\cdot\\Delta t\n",
    "\\end{equation}\n",
    "\n",
    "\\begin{equation}\n",
    "[\\mathrm{B}]_{t+\\Delta t} = [\\mathrm{B}]_t + k_1[\\mathrm{A}]_t^2 - k_2[\\mathrm{B}]_t[\\mathrm{C}]_t\\cdot\\Delta t\n",
    "\\end{equation}\n",
    "\n",
    "\\begin{equation}\n",
    "[\\mathrm{C}]_{t+\\Delta t} = [\\mathrm{C}]_t - k_2[\\mathrm{B}]_t[\\mathrm{C}]_t\\cdot\\Delta t\n",
    "\\end{equation}\n",
    "\n",
    "\\begin{equation}\n",
    "[\\mathrm{D}]_{t+\\Delta t} = [\\mathrm{D}]_t + k_2[\\mathrm{B}]_t[\\mathrm{C}]_t\\cdot\\Delta t\n",
    "\\end{equation}"
   ]
  },
  {
   "cell_type": "code",
   "execution_count": 1,
   "metadata": {},
   "outputs": [],
   "source": [
    "# writing each rate equation 1–4 as a function\n",
    "\n",
    "def dA_by_dt( A, k1 ):\n",
    "    return -2*k1*A**2\n",
    "\n",
    "def dB_by_dt( A, B, C, k1, k2 ):\n",
    "    return +k1*A**2 - k2*B*C\n",
    "\n",
    "def dC_by_dt( B, C, k2 ):\n",
    "    return -k2*B*C\n",
    "\n",
    "def dD_by_dt( B, C, k2 ):\n",
    "    return +k2*B*C"
   ]
  },
  {
   "cell_type": "code",
   "execution_count": 2,
   "metadata": {},
   "outputs": [],
   "source": [
    "# initial concentrations\n",
    "\n",
    "A_0 = 5.0\n",
    "B_0 = 0.0\n",
    "C_0 = 2.0\n",
    "D_0 = 0.0\n",
    "\n",
    "# rates\n",
    "\n",
    "k1 = 0.05\n",
    "k2 = 0.1\n",
    "\n",
    "# timestep\n",
    "\n",
    "dt = 0.01"
   ]
  },
  {
   "cell_type": "code",
   "execution_count": 3,
   "metadata": {},
   "outputs": [],
   "source": [
    "A = A_0\n",
    "B = B_0\n",
    "C = C_0\n",
    "D = D_0\n",
    "\n",
    "A_conc = [A]\n",
    "B_conc = [B]\n",
    "C_conc = [C]\n",
    "D_conc = [D]\n",
    "\n",
    "time = 0.0\n",
    "max_time = 10.0\n",
    "\n",
    "while time < max_time:\n",
    "    A = A + dA_by_dt( A, k1 ) * dt\n",
    "    B = B + dB_by_dt( A, B, C, k1, k2 ) * dt\n",
    "    C = C + dC_by_dt( B, C, k2 ) * dt\n",
    "    D = D + dD_by_dt( B, C, k2 ) * dt\n",
    "    \n",
    "    A_conc.append( A )\n",
    "    B_conc.append( B )\n",
    "    C_conc.append( C )\n",
    "    D_conc.append( D )\n",
    "    \n",
    "    time += dt"
   ]
  },
  {
   "cell_type": "code",
   "execution_count": 4,
   "metadata": {},
   "outputs": [
    {
     "data": {
      "image/png": "[encoded data removed]",
      "text/plain": [
       "<matplotlib.figure.Figure at 0x1066a27b8>"
      ]
     },
     "metadata": {},
     "output_type": "display_data"
    }
   ],
   "source": [
    "import numpy as np\n",
    "import matplotlib.pyplot as plt\n",
    "%matplotlib inline\n",
    "\n",
    "times = np.arange( len( A_conc ) ) * dt\n",
    "\n",
    "plt.plot( times, A_conc, label='[A]' )\n",
    "plt.plot( times, B_conc, label='[B]' )\n",
    "plt.plot( times, C_conc, label='[C]' )\n",
    "plt.plot( times, D_conc, label='[D]' )\n",
    "\n",
    "plt.legend()\n",
    "plt.show()"
   ]
  },
  {
   "cell_type": "code",
   "execution_count": 5,
   "metadata": {},
   "outputs": [
    {
     "name": "stdout",
     "output_type": "stream",
     "text": [
      "3.58\n"
     ]
    }
   ],
   "source": [
    "print( times[ np.argmax( B_conc ) ] )"
   ]
  }
 ],
 "metadata": {
  "kernelspec": {
   "display_name": "Python 3",
   "language": "python",
   "name": "python3"
  },
  "language_info": {
   "codemirror_mode": {
    "name": "ipython",
    "version": 3
   },
   "file_extension": ".py",
   "mimetype": "text/x-python",
   "name": "python",
   "nbconvert_exporter": "python",
   "pygments_lexer": "ipython3",
   "version": "3.6.1"
  }
 },
 "nbformat": 4,
 "nbformat_minor": 2
}
