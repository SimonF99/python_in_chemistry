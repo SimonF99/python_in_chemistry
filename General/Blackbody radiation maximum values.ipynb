{
 "cells": [
  {
   "cell_type": "markdown",
   "metadata": {
    "collapsed": true
   },
   "source": [
    "## Finding maximum values\n",
    "\n",
    "This workbook calculates the blackbody spectra of 'hot' objects, in this case a hot cup of tea and a person. However this is just a vehicle for demonstrating how you can find the maximum values from a NumPy array, and also find the input variable this corresponds to.\n",
    "\n",
    "In this case, we can find the maximum intensity from the calculation and the wavelength to which that intensity belongs.\n",
    "\n",
    "The Planck equation describes a blackbody radiation curve, it is an incredibly important equation in quantum theory as it was the first use of quantisation of energy. The Planck equation states:\n",
    "\n",
    "\n",
    "\\begin{equation}\n",
    "I_{\\lambda, T} = \\frac{2hc^2}{\\lambda ^5 e^{\\frac{hc}{\\lambda k_B T}}-1}\n",
    "\\end{equation}\n",
    "\n",
    "This notebook uses a [function](http://blogs.bath.ac.uk/python/functions/) to calculate the intensity of the radiation at each wavelength.\n",
    "\n",
    "Other techniques used in this notebook are:\n",
    "- [scipy.constants](http://blogs.bath.ac.uk/python/working-with-physical-constants-and-units/) for importing universal constants such as $c$, $h$, $k_\\mathrm{B}$.\n",
    "- `matplotlib.pyplot` to plot the calculated spectrum.\n",
    "- `numpy` to generate the arrays used for the calculations.\n",
    "- using `np.argmax` and `np.amax` to find the wavelength of the maximum value and the maximum intensity respectively\n",
    "\n",
    "Some other useful things to note...\n",
    "- you can enter greek letters into print statements by typing the LaTeX command and pressing tab at the end of the word, so `\\mu` 'tab' changes the letter to read $\\mu$.\n",
    "- you can change the colour of the lines on your plot. In my plot statements you can see the use of 'c-' and 'm-', which colours the lines cyan and magenta respectively.\n",
    "- other colours include 'k-' black, 'r-' red, 'g-' green & 'b-' blue. A [whole range of named colours](https://matplotlib.org/examples/color/named_colors.html) can be used in `matplotlib` but these are most of the single letter colours.\n",
    "- the use of markdown and LaTeX when presenting the result, but that is for another post"
   ]
  },
  {
   "cell_type": "code",
   "execution_count": 1,
   "metadata": {},
   "outputs": [
    {
     "data": {
      "image/png": "[encoded data removed]",
      "text/plain": [
       "<matplotlib.figure.Figure at 0x1091ee0f0>"
      ]
     },
     "metadata": {},
     "output_type": "display_data"
    }
   ],
   "source": [
    "import matplotlib.pyplot as plt\n",
    "import numpy as np\n",
    "from scipy.constants import h #Planck's constant\n",
    "from scipy.constants import c #speed of light\n",
    "from scipy.constants import k #Boltzmann constant\n",
    "from IPython.display import Markdown as md\n",
    "#\n",
    "def planck(lambdanm, T):\n",
    "    intensity = 2.0*h*c**2/ ( (lambdanm**5) * (np.exp(h*c/(lambdanm*k*T)) - 1.0) )\n",
    "    return intensity\n",
    "#\n",
    "## wavelengths in increments from 100nm to 60 um in 1 nm increments\n",
    "wavelengths = np.arange(100e-9, 60e-6, 1e-9) \n",
    "#\n",
    "## intensity at 363K, 310K\n",
    "intensity363 = planck(wavelengths, 363.) #hotcupoftea\n",
    "intensity310 = planck(wavelengths, 310.) #person\n",
    "\n",
    "#note the use of the multiplier on the wavelengths such that it willnow have units of μm\n",
    "plt.plot(wavelengths*1e6, intensity363, 'c-', label='363 K') #hotcupoftea - cyan\n",
    "plt.plot(wavelengths*1e6, intensity310, 'm-', label='310') #person - magenta\n",
    "\n",
    "plt.title('Black body radiation curves')\n",
    "plt.legend() # Shows the legend",
    "plt.xlabel('$\\lambda$ / $\\mu$m')\n",
    "plt.ylabel('intensity')\n",
    "## show the plot\n",
    "plt.show()"
   ]
  },
  {
   "cell_type": "code",
   "execution_count": 2,
   "metadata": {},
   "outputs": [
    {
     "data": {
      "text/markdown": [
       "$\\lambda_\\mathrm{max}$ = 7.983 $\\mu$m"
      ],
      "text/plain": [
       "<IPython.core.display.Markdown object>"
      ]
     },
     "metadata": {},
     "output_type": "display_data"
    },
    {
     "data": {
      "text/markdown": [
       "$I_\\mathrm{max}$ = 2.581e+07 J m$^{-2}$."
      ],
      "text/plain": [
       "<IPython.core.display.Markdown object>"
      ]
     },
     "metadata": {},
     "output_type": "display_data"
    }
   ],
   "source": [
    "from IPython.display import Markdown as md\n",
    "lambda_max = wavelengths[ np.argmax( intensity363 ) ] \n",
    "display( md(r\"$\\lambda_\\mathrm{{max}}$ = {:.3f} $\\mu$m\".format( lambda_max * 1e6 ) ) )\n",
    "display( md(r\"$I_\\mathrm{{max}}$ = {:.3e} J m$^{{-2}}$.\".format( np.max( intensity363 ) ) ) )"
   ]
  }
 ],
 "metadata": {
  "kernelspec": {
   "display_name": "Python 3",
   "language": "python",
   "name": "python3"
  },
  "language_info": {
   "codemirror_mode": {
    "name": "ipython",
    "version": 3
   },
   "file_extension": ".py",
   "mimetype": "text/x-python",
   "name": "python",
   "nbconvert_exporter": "python",
   "pygments_lexer": "ipython3",
   "version": "3.6.3"
  }
 },
 "nbformat": 4,
 "nbformat_minor": 2
}
