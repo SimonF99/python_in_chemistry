{
 "cells": [
  {
   "cell_type": "markdown",
   "metadata": {},
   "source": [
    "# Functions\n",
    "\n",
    "This notebook will introduce the concept of functions in terms of the Python programming language. I will endevour to use examples of *chemistry* related problems, but occasionally examples from physics or mathematics will come through.\n",
    "\n",
    "Like many other programming languages Python lets you utilise functions -- in many ways these are a time saving methods so that you have to write less code. \n",
    "\n",
    "The concept of a function should be familiar from mathematics, e.g. \n",
    "\n",
    "$$f(x)$$\n",
    "\n",
    "where $f(x)$ is some mathematical operation that acts on the argument, $x$. For example, \n",
    "\n",
    "$$f(x) = x^2.$$\n",
    "\n",
    "Using this we can say that $f(2) = 4$, $f(3) = 9$, etc. \n",
    "\n",
    "A function in programming is very similar, it has arguments and returns a value after some operation has taken place.\n",
    "\n",
    "The Pythonic way to *define* a function is:\n",
    "\n",
    "<code>def name_of_function(argument):\n",
    "    operation\n",
    "    return result\n",
    "</code>\n",
    "\n",
    "The <code>def</code> tells the computer that you are wanting to **def**ine a function, the <code>return</code> tells the computer that this is the thing that should be sent back. \n",
    "\n",
    "Lets try the mathematical example from above."
   ]
  },
  {
   "cell_type": "code",
   "execution_count": 15,
   "metadata": {
    "collapsed": true
   },
   "outputs": [],
   "source": [
    "def f(x):\n",
    "    y = x ** 2\n",
    "    return y"
   ]
  },
  {
   "cell_type": "markdown",
   "metadata": {},
   "source": [
    "This says that you want to: \n",
    "- Define a function\n",
    "- That function should be called <code>f</code>\n",
    "- It will have one argument <code>x</code>\n",
    "- The operation to be performed on <code>x</code> is <code>x squared</code>\n",
    "- The result of the operation should be stored in the variable <code>y</code>\n",
    "- The data stored in variable <code>y</code> is what should be returned\n",
    "\n",
    "It is important to be aware that defining a function is only half the battle, now we need to *call* it.\n",
    "\n",
    "This is achieved as follows\n",
    "\n",
    "<code>result = name_of_function(argument)\n",
    "</code>\n",
    "\n",
    "This tells the computer to *execute* the function called <code>name_of_function</code>, with the argument <code>argument</code>, and store the result in the variable <code>result</code>. \n",
    "\n",
    "So if we would like to run the function that we have defined above."
   ]
  },
  {
   "cell_type": "code",
   "execution_count": 16,
   "metadata": {},
   "outputs": [
    {
     "data": {
      "text/plain": [
       "4"
      ]
     },
     "execution_count": 16,
     "metadata": {},
     "output_type": "execute_result"
    }
   ],
   "source": [
    "x = 2\n",
    "y = f(x)\n",
    "y"
   ]
  },
  {
   "cell_type": "markdown",
   "metadata": {},
   "source": [
    "It should be noted that the names of the variables **do not** need to be the same as in the function definition (however the function name does), so the following is equally valid."
   ]
  },
  {
   "cell_type": "code",
   "execution_count": 17,
   "metadata": {},
   "outputs": [
    {
     "data": {
      "text/plain": [
       "9"
      ]
     },
     "execution_count": 17,
     "metadata": {},
     "output_type": "execute_result"
    }
   ],
   "source": [
    "horsey = 3\n",
    "doggy = f(horsey)\n",
    "doggy"
   ]
  },
  {
   "cell_type": "markdown",
   "metadata": {},
   "source": [
    "It is not necessary for a function to only include one argument, just as in mathematics. For example we can write a function that calculated the equilibrium constant of some reaction."
   ]
  },
  {
   "cell_type": "code",
   "execution_count": 18,
   "metadata": {},
   "outputs": [
    {
     "name": "stdout",
     "output_type": "stream",
     "text": [
      "The equilibrium constant is 3711.043\n"
     ]
    }
   ],
   "source": [
    "import numpy as np\n",
    "\n",
    "def equilibrium_constart(deltaG, R, T):\n",
    "    K = np.exp(-deltaG / (R * T))\n",
    "    return K\n",
    "\n",
    "deltaG = -20.5 #kJ/mol\n",
    "R = 8.314 #J/Kmol\n",
    "R = 8.314 * 0.001 #kJ/Kmol\n",
    "T = 300 #K\n",
    "\n",
    "K = equilibrium_constart(deltaG, R, T)\n",
    "print('The equilibrium constant is {:.3f}'.format(K))"
   ]
  },
  {
   "cell_type": "markdown",
   "metadata": {},
   "source": [
    "Further, the function and also return multiple results. See the example below for finding the roots of a quadratic equation. \n",
    "\n",
    "$$ y = ax^2 + bx + c $$\n",
    "\n",
    "where, $a = 1$, $b = 4$, and $c = 2$. "
   ]
  },
  {
   "cell_type": "code",
   "execution_count": 19,
   "metadata": {},
   "outputs": [
    {
     "name": "stdout",
     "output_type": "stream",
     "text": [
      "-0.585786437627 -3.41421356237\n"
     ]
    }
   ],
   "source": [
    "def getRoots(a, b, c):\n",
    "    x_plus = (-b + np.sqrt(b ** 2 - 4 * a * c)) / (2 * a)\n",
    "    x_minus = (-b - np.sqrt(b ** 2 - 4 * a * c)) / (2 * a)\n",
    "    return x_plus, x_minus\n",
    "\n",
    "x_plus, x_minus = getRoots(1, 4, 2)\n",
    "print(x_plus, x_minus)"
   ]
  }
 ],
 "metadata": {
  "kernelspec": {
   "display_name": "Python 3",
   "language": "python",
   "name": "python3"
  },
  "language_info": {
   "codemirror_mode": {
    "name": "ipython",
    "version": 3
   },
   "file_extension": ".py",
   "mimetype": "text/x-python",
   "name": "python",
   "nbconvert_exporter": "python",
   "pygments_lexer": "ipython3",
   "version": "3.6.1"
  }
 },
 "nbformat": 4,
 "nbformat_minor": 2
}
