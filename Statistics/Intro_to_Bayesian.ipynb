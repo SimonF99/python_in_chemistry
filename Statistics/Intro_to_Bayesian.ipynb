{
 "cells": [
  {
   "cell_type": "code",
   "execution_count": 10,
   "metadata": {
    "collapsed": true
   },
   "outputs": [],
   "source": [
    "%matplotlib inline \n",
    "import matplotlib.pyplot as plt\n",
    "import numpy as np\n",
    "import emcee\n",
    "from scipy import stats\n",
    "rc('text', usetex=True)"
   ]
  },
  {
   "cell_type": "markdown",
   "metadata": {},
   "source": [
    "In this notebook we will introduce some concepts of Bayesian (or probabilistic) analysis of data. There are many other resources that discuss Bayesian inference, two particular favourites of myself are:\n",
    "\n",
    "- Data Analysis: A Bayesian Tutorial by D.S. Sivia;\n",
    "- Frequentism and Bayesianism by Jake VanderPlas (http://jakevdp.github.io/blog/2014/03/11/frequentism-and-bayesianism-a-practical-intro/).\n",
    "\n",
    "In addition to introducing concepts of Bayesian inference, we will also show how Python can be used to perform it."
   ]
  },
  {
   "cell_type": "code",
   "execution_count": 11,
   "metadata": {
    "collapsed": true
   },
   "outputs": [],
   "source": [
    "measurement_number, V, e = np.loadtxt(\"volume_measurement_data.txt\", unpack=True)"
   ]
  },
  {
   "cell_type": "code",
   "execution_count": 12,
   "metadata": {},
   "outputs": [
    {
     "data": {
      "image/png": "[encoded data removed]",
      "text/plain": [
       "<matplotlib.figure.Figure at 0x7f7e58de3320>"
      ]
     },
     "metadata": {},
     "output_type": "display_data"
    }
   ],
   "source": [
    "fig, ax = plt.subplots()\n",
    "ax.errorbar(measurement_number, V, yerr=e, fmt='ok', ecolor='gray', alpha=0.5)\n",
    "ax.set_xlabel(r'Measurement number')\n",
    "ax.set_ylabel(r'Volume/$m^3$')\n",
    "plt.show()"
   ]
  },
  {
   "cell_type": "code",
   "execution_count": 13,
   "metadata": {
    "collapsed": true
   },
   "outputs": [],
   "source": [
    "def log_prior(theta):\n",
    "    return 1\n",
    "\n",
    "def log_likelihood(theta, V, e):\n",
    "    return -0.5 * np.sum(np.log(2 * np.pi * e ** 2) + (V - theta) ** 2 / e ** 2)\n",
    "\n",
    "def log_posterior(theta, V, e):\n",
    "    #return log_prior(theta) + log_likelihood(theta, V, e)\n",
    "    return log_likelihood(theta, V, e)"
   ]
  },
  {
   "cell_type": "code",
   "execution_count": 14,
   "metadata": {},
   "outputs": [],
   "source": [
    "ndim = 1\n",
    "nwalkers = 50\n",
    "nburn = 1000\n",
    "nsteps = 20000\n",
    "\n",
    "starting_guesses = 450 * np.random.rand(nwalkers, ndim)\n",
    "\n",
    "import emcee\n",
    "sampler = emcee.EnsembleSampler(nwalkers, ndim, log_posterior, args=[V, e])\n",
    "sampler.run_mcmc(starting_guesses, nsteps)\n",
    "\n",
    "sample = sampler.chain\n",
    "sample = sampler.chain[:, nburn:, :].ravel()"
   ]
  },
  {
   "cell_type": "code",
   "execution_count": 15,
   "metadata": {},
   "outputs": [
    {
     "data": {
      "image/png": "[encoded data removed]",
      "text/plain": [
       "<matplotlib.figure.Figure at 0x7f7e58d1f5f8>"
      ]
     },
     "metadata": {},
     "output_type": "display_data"
    }
   ],
   "source": [
    "from matplotlib.pyplot import rcParams, rc\n",
    "\n",
    "plt.hist(sample, bins=50, histtype=\"stepfilled\", alpha=0.3, normed=True, color='k')\n",
    "\n",
    "F_fit = np.linspace(430, 452, 1000)\n",
    "pdf = stats.norm(np.mean(sample), np.std(sample)).pdf(F_fit)\n",
    "\n",
    "plt.plot(F_fit, pdf, '-k', lw=2)\n",
    "plt.xlabel(r'$x$')\n",
    "plt.ylabel('prob($x$)')\n",
    "#plt.xticks([])\n",
    "plt.yticks([])\n",
    "plt.tight_layout()"
   ]
  },
  {
   "cell_type": "code",
   "execution_count": null,
   "metadata": {
    "collapsed": true
   },
   "outputs": [],
   "source": []
  },
  {
   "cell_type": "code",
   "execution_count": null,
   "metadata": {
    "collapsed": true
   },
   "outputs": [],
   "source": []
  }
 ],
 "metadata": {
  "kernelspec": {
   "display_name": "Python 3",
   "language": "python",
   "name": "python3"
  },
  "language_info": {
   "codemirror_mode": {
    "name": "ipython",
    "version": 3
   },
   "file_extension": ".py",
   "mimetype": "text/x-python",
   "name": "python",
   "nbconvert_exporter": "python",
   "pygments_lexer": "ipython3",
   "version": "3.6.2"
  }
 },
 "nbformat": 4,
 "nbformat_minor": 2
}
