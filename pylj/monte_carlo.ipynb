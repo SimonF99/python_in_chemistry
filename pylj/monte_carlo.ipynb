{
 "cells": [
  {
   "cell_type": "code",
   "execution_count": null,
   "metadata": {
    "collapsed": true
   },
   "outputs": [],
   "source": [
    "import warnings\n",
    "from pylj import comp, mc, sample, util\n",
    "import numpy as np\n",
    "import matplotlib.pyplot as plt\n",
    "\n",
    "warnings.filterwarnings('ignore')"
   ]
  },
  {
   "cell_type": "code",
   "execution_count": null,
   "metadata": {},
   "outputs": [],
   "source": [
    "def mc_simulation(number_of_particles, temperature, box_length, number_of_steps, sample_frequency):\n",
    "    # Creates the visualisation environment\n",
    "    %matplotlib notebook\n",
    "    # Initialise the system\n",
    "    system = mc.initialise(number_of_particles, temperature, box_length, 'square')\n",
    "    # This sets the sampling class\n",
    "    sample_system = sample.Energy(system)\n",
    "    system.particles, system.distances, system.energies = comp.compute_energy(system.particles, \n",
    "                                                                                  system.distances,\n",
    "                                                                                  system.energies, \n",
    "                                                                                  system.box_length)\n",
    "    old_energy = system.energies.sum()\n",
    "    system = mc.sample(system.particles, system.box_length, old_energy, system)\n",
    "    # Start at time 0\n",
    "    # Begin the monte carlo loop\n",
    "    for i in range(0, number_of_steps):\n",
    "        # At each step, calculate the forces on each particle \n",
    "        # and get acceleration\n",
    "        random_particle, system.position_store = mc.select_random_particle(system.particles)\n",
    "        system.particles = mc.get_new_particle(system.particles, random_particle, system.box_length)\n",
    "        system.particles, system.distances, system.energies = comp.compute_energy(system.particles, \n",
    "                                                                                  system.distances,\n",
    "                                                                                  system.energies, \n",
    "                                                                                  system.box_length)\n",
    "        new_energy = system.energies.sum()\n",
    "        if mc.metropolis(temperature, old_energy, new_energy):\n",
    "            old_energy = mc.accept(new_energy)\n",
    "        else:\n",
    "            system.particles = mc.reject(system.position_store, system.particles, random_particle)\n",
    "        system.step += 1\n",
    "        system = mc.sample(system.particles, system.box_length, old_energy, system)\n",
    "        # At a given frequency sample the positions and plot the RDF\n",
    "        if system.step % sample_frequency == 0:\n",
    "            sample_system.update(system)\n",
    "    return system"
   ]
  },
  {
   "cell_type": "markdown",
   "metadata": {},
   "source": [
    "The `mc_simulation` function takes three variables:\n",
    "- The number of particles\n",
    "- The simulation temperature (for the Metropolis condition)\n",
    "- The simulation cell vector\n",
    "- The number of steps\n",
    "- The sampling frequency (how often the image is updated)"
   ]
  },
  {
   "cell_type": "code",
   "execution_count": null,
   "metadata": {
    "scrolled": false
   },
   "outputs": [],
   "source": [
    "system = mc_simulation(100, 200.15, 45, 25000, 100)"
   ]
  }
 ],
 "metadata": {
  "kernelspec": {
   "display_name": "Python [conda env:pylj]",
   "language": "python",
   "name": "conda-env-pylj-py"
  },
  "language_info": {
   "codemirror_mode": {
    "name": "ipython",
    "version": 3
   },
   "file_extension": ".py",
   "mimetype": "text/x-python",
   "name": "python",
   "nbconvert_exporter": "python",
   "pygments_lexer": "ipython3",
   "version": "3.6.5"
  },
  "latex_envs": {
   "LaTeX_envs_menu_present": true,
   "autoclose": false,
   "autocomplete": true,
   "bibliofile": "biblio.bib",
   "cite_by": "apalike",
   "current_citInitial": 1,
   "eqLabelWithNumbers": true,
   "eqNumInitial": 1,
   "hotkeys": {
    "equation": "Ctrl-E",
    "itemize": "Ctrl-I"
   },
   "labels_anchors": false,
   "latex_user_defs": false,
   "report_style_numbering": false,
   "user_envs_cfg": false
  }
 },
 "nbformat": 4,
 "nbformat_minor": 2
}
