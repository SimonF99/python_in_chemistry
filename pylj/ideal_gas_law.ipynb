{
 "cells": [
  {
   "cell_type": "code",
   "execution_count": 1,
   "metadata": {
    "collapsed": true
   },
   "outputs": [],
   "source": [
    "import warnings\n",
    "from pylj import comp, md, sample, util, em\n",
    "import numpy as np\n",
    "import matplotlib.pyplot as plt\n",
    "\n",
    "warnings.filterwarnings('ignore')"
   ]
  },
  {
   "cell_type": "markdown",
   "metadata": {},
   "source": [
    "# Molecular dynamics: Testing the ideal gas law\n",
    "\n",
    "## Molecular dynamics\n",
    "\n",
    "Molecular dynamics is a powerful method for exploring the structure of solids, liquids, and gases. The idea is simple: calculate the forces acting on the atoms in a system and anlayse their time-dependent behaviour and motion using Newtonian mechanics. When eneroguh information on the motion of the individual particles has been gathered, it is possible to deduce properties of the system. \n",
    "\n",
    "The aim of this exercise to use molecular dynamics simulation to investigate the nautre of an ideal gas. This involves the 2-dimensional simulation of an argon gas analogue using [pylj](pythoninchemistry.org/pylj). The function defined below is a typical molecular dynamics simulation where the number of particles, volume of the system, and system temperature are kept constant (this is referred to as the NVT ensemble). "
   ]
  },
  {
   "cell_type": "code",
   "execution_count": 2,
   "metadata": {
    "collapsed": true
   },
   "outputs": [],
   "source": [
    "def md_simulation(number_of_particles, temperature, box_length, number_of_steps, sample_frequency):\n",
    "    # Creates the visualisation environment\n",
    "    %matplotlib notebook\n",
    "    # Initialise the system\n",
    "    system = md.initialise(number_of_particles, temperature, box_length, 'square')\n",
    "    # This sets the sampling class\n",
    "    sample_system = sample.Scattering(system)\n",
    "    # Start at time 0\n",
    "    system.time = 0\n",
    "    # Begin the molecular dynamics loop\n",
    "    for i in range(0, number_of_steps):\n",
    "        # At each step, calculate the forces on each particle \n",
    "        # and get acceleration\n",
    "        system.particles, system.distances, system.forces = comp.compute_forces(system.particles, \n",
    "                                                                                system.distances,\n",
    "                                                                                system.forces, system.box_length)\n",
    "        # Run the equations of motion integrator algorithm\n",
    "        system = md.velocity_verlet(system)\n",
    "        # Allow the system to interact with a heat bath\n",
    "        system = comp.heat_bath(system, temperature)\n",
    "        # Iterate the time\n",
    "        system.time += system.timestep_length\n",
    "        system.step += 1\n",
    "        # At a given frequency sample the positions and plot the RDF\n",
    "        if system.step % sample_frequency == 0:\n",
    "            sample_system.update(system)  \n",
    "    return system"
   ]
  },
  {
   "cell_type": "markdown",
   "metadata": {},
   "source": [
    "This simulation could be run for 10 particles over 1000 steps, with a temperature of 1 using the following command. Note that the temperature and pressure are all in arbitrary units. "
   ]
  },
  {
   "cell_type": "code",
   "execution_count": 3,
   "metadata": {
    "scrolled": false
   },
   "outputs": [
    {
     "ename": "AttributeError",
     "evalue": "'tuple' object has no attribute 'temp_sum'",
     "output_type": "error",
     "traceback": [
      "\u001b[0;31m---------------------------------------------------------------------------\u001b[0m",
      "\u001b[0;31mAttributeError\u001b[0m                            Traceback (most recent call last)",
      "\u001b[0;32m<ipython-input-3-7f899c3fdef6>\u001b[0m in \u001b[0;36m<module>\u001b[0;34m()\u001b[0m\n\u001b[0;32m----> 1\u001b[0;31m \u001b[0msystem\u001b[0m \u001b[0;34m=\u001b[0m \u001b[0mmd_simulation\u001b[0m\u001b[0;34m(\u001b[0m\u001b[0;36m50\u001b[0m\u001b[0;34m,\u001b[0m \u001b[0;36m1\u001b[0m\u001b[0;34m,\u001b[0m \u001b[0;36m8\u001b[0m\u001b[0;34m,\u001b[0m \u001b[0;36m1000\u001b[0m\u001b[0;34m,\u001b[0m \u001b[0;36m10\u001b[0m\u001b[0;34m)\u001b[0m\u001b[0;34m\u001b[0m\u001b[0m\n\u001b[0m",
      "\u001b[0;32m<ipython-input-2-184e3b6c128d>\u001b[0m in \u001b[0;36mmd_simulation\u001b[0;34m(number_of_particles, temperature, box_length, number_of_steps, sample_frequency)\u001b[0m\n\u001b[1;32m      3\u001b[0m     \u001b[0mget_ipython\u001b[0m\u001b[0;34m(\u001b[0m\u001b[0;34m)\u001b[0m\u001b[0;34m.\u001b[0m\u001b[0mrun_line_magic\u001b[0m\u001b[0;34m(\u001b[0m\u001b[0;34m'matplotlib'\u001b[0m\u001b[0;34m,\u001b[0m \u001b[0;34m'notebook'\u001b[0m\u001b[0;34m)\u001b[0m\u001b[0;34m\u001b[0m\u001b[0m\n\u001b[1;32m      4\u001b[0m     \u001b[0;31m# Initialise the system\u001b[0m\u001b[0;34m\u001b[0m\u001b[0;34m\u001b[0m\u001b[0m\n\u001b[0;32m----> 5\u001b[0;31m     \u001b[0msystem\u001b[0m \u001b[0;34m=\u001b[0m \u001b[0mmd\u001b[0m\u001b[0;34m.\u001b[0m\u001b[0minitialise\u001b[0m\u001b[0;34m(\u001b[0m\u001b[0mnumber_of_particles\u001b[0m\u001b[0;34m,\u001b[0m \u001b[0mtemperature\u001b[0m\u001b[0;34m,\u001b[0m \u001b[0mbox_length\u001b[0m\u001b[0;34m,\u001b[0m \u001b[0;34m'square'\u001b[0m\u001b[0;34m)\u001b[0m\u001b[0;34m\u001b[0m\u001b[0m\n\u001b[0m\u001b[1;32m      6\u001b[0m     \u001b[0;31m# This sets the sampling class\u001b[0m\u001b[0;34m\u001b[0m\u001b[0;34m\u001b[0m\u001b[0m\n\u001b[1;32m      7\u001b[0m     \u001b[0msample_system\u001b[0m \u001b[0;34m=\u001b[0m \u001b[0msample\u001b[0m\u001b[0;34m.\u001b[0m\u001b[0mScattering\u001b[0m\u001b[0;34m(\u001b[0m\u001b[0msystem\u001b[0m\u001b[0;34m)\u001b[0m\u001b[0;34m\u001b[0m\u001b[0m\n",
      "\u001b[0;32m~/anaconda3/envs/pylj/lib/python3.6/site-packages/pylj-0.0.5-py3.6-linux-x86_64.egg/pylj/md.py\u001b[0m in \u001b[0;36minitialise\u001b[0;34m(number_of_particles, temperature, box_length, init_conf, timestep_length)\u001b[0m\n\u001b[1;32m     35\u001b[0m     \u001b[0msystem\u001b[0m\u001b[0;34m.\u001b[0m\u001b[0mparticles\u001b[0m\u001b[0;34m[\u001b[0m\u001b[0;34m'yvelocity'\u001b[0m\u001b[0;34m]\u001b[0m \u001b[0;34m=\u001b[0m \u001b[0mv\u001b[0m \u001b[0;34m*\u001b[0m \u001b[0mnp\u001b[0m\u001b[0;34m.\u001b[0m\u001b[0msin\u001b[0m\u001b[0;34m(\u001b[0m\u001b[0mtheta\u001b[0m\u001b[0;34m)\u001b[0m\u001b[0;34m\u001b[0m\u001b[0m\n\u001b[1;32m     36\u001b[0m     \u001b[0msystem\u001b[0m \u001b[0;34m=\u001b[0m \u001b[0mcomp\u001b[0m\u001b[0;34m.\u001b[0m\u001b[0mcompute_forces\u001b[0m\u001b[0;34m(\u001b[0m\u001b[0msystem\u001b[0m\u001b[0;34m.\u001b[0m\u001b[0mparticles\u001b[0m\u001b[0;34m,\u001b[0m \u001b[0msystem\u001b[0m\u001b[0;34m.\u001b[0m\u001b[0mdistances\u001b[0m\u001b[0;34m,\u001b[0m \u001b[0msystem\u001b[0m\u001b[0;34m.\u001b[0m\u001b[0mforces\u001b[0m\u001b[0;34m,\u001b[0m \u001b[0msystem\u001b[0m\u001b[0;34m.\u001b[0m\u001b[0mbox_length\u001b[0m\u001b[0;34m)\u001b[0m\u001b[0;34m\u001b[0m\u001b[0m\n\u001b[0;32m---> 37\u001b[0;31m     \u001b[0msystem\u001b[0m\u001b[0;34m.\u001b[0m\u001b[0mtemp_sum\u001b[0m \u001b[0;34m=\u001b[0m \u001b[0;36m0.\u001b[0m\u001b[0;34m\u001b[0m\u001b[0m\n\u001b[0m\u001b[1;32m     38\u001b[0m     \u001b[0;32mreturn\u001b[0m \u001b[0msystem\u001b[0m\u001b[0;34m\u001b[0m\u001b[0m\n\u001b[1;32m     39\u001b[0m \u001b[0;34m\u001b[0m\u001b[0m\n",
      "\u001b[0;31mAttributeError\u001b[0m: 'tuple' object has no attribute 'temp_sum'"
     ]
    }
   ],
   "source": [
    "system = md_simulation(50, 1, 8, 1000, 10)"
   ]
  },
  {
   "cell_type": "markdown",
   "metadata": {},
   "source": [
    "We are wanting to investigate the nature of the gas ideality, therefore we are considering the following relationship\n",
    "\n",
    "$$ p = \\frac{nRT}{V}, $$\n",
    "\n",
    "where pressure, $p$, is the observable as it is given as an output plot by pylj and any of $n$, $T$, or $V$ can be varied to investigate this relationship. However, in pylj the system area (as it is 2D) is constrained to be $16^2$. This limited us to varying the number of particles, or the temperature. \n",
    "\n",
    "It is possible to return the average pressure during the entire simulation using the following command. "
   ]
  },
  {
   "cell_type": "code",
   "execution_count": null,
   "metadata": {
    "collapsed": true
   },
   "outputs": [],
   "source": [
    "print(\"Average pressure = {:.2f}+/-{:.2f}\".format(system.pressure.mean(), system.pressure.std()))"
   ]
  },
  {
   "cell_type": "markdown",
   "metadata": {},
   "source": [
    "Therefore, hopefully it is evident how pylj could be used, along with a for loop to study the increase number of particles. "
   ]
  },
  {
   "cell_type": "code",
   "execution_count": null,
   "metadata": {
    "collapsed": true,
    "scrolled": false
   },
   "outputs": [],
   "source": [
    "numb_parts = np.array([2, 5, 10, 20, 40, 60, 80, 100, 120])\n",
    "pressure = np.zeros_like(numb_parts, dtype=np.float64)\n",
    "pressure_std = np.zeros_like(numb_parts, dtype=np.float64)\n",
    "for i in range(0, len(numb_parts)):\n",
    "    system = md_simulation(numb_parts[i], 1, 5000, 10)\n",
    "    pressure[i] = system.pressure.mean()\n",
    "    pressure_std[i] = system.pressure.std()"
   ]
  },
  {
   "cell_type": "markdown",
   "metadata": {},
   "source": [
    "It is then possible to plot the pressure against the number of particle in each simulation. The straight line of the ideal gas law can also be included, in the internal units of pylj the ideal gas constant has the following value.\n",
    "\n",
    "$$ R = 1.42\\times 10^{-2} $$"
   ]
  },
  {
   "cell_type": "code",
   "execution_count": null,
   "metadata": {
    "collapsed": true
   },
   "outputs": [],
   "source": [
    "%matplotlib inline\n",
    "import matplotlib.pyplot as plt\n",
    "\n",
    "plt.rcParams['font.size']=16\n",
    "plt.rcParams['xtick.labelsize']=12\n",
    "plt.rcParams['ytick.labelsize']=12\n",
    "\n",
    "plt.errorbar(numb_parts, pressure, marker='o', yerr=pressure_std, \n",
    "             ls='', color='#34a5daff', markeredgecolor='black', markersize=12)\n",
    "plt.plot(numb_parts, 0.0142 * 1 / 16 ** 2 * numb_parts, color='#34a5daff')\n",
    "plt.show()\n",
    "\n",
    "print(pressure.dtype)"
   ]
  },
  {
   "cell_type": "markdown",
   "metadata": {},
   "source": [
    "The deviation from the ideal gas law is clear. The student could be asked to comment on the deviation. \n",
    "\n",
    "The van der Waals' equation includes corrections associated with the interactions between atoms, and has the form\n",
    "\n",
    "$$ p = \\frac{nRT}{V-nb} - a\\frac{n^2}{V^2}, $$\n",
    "\n",
    "where $a$ and $b$ are the corrections. We can used scipy.optimize to fit values of $a$ and $b$ for our system."
   ]
  },
  {
   "cell_type": "code",
   "execution_count": null,
   "metadata": {
    "collapsed": true
   },
   "outputs": [],
   "source": [
    "from scipy.optimize import curve_fit\n",
    "\n",
    "def vdW(x, a, b):\n",
    "    return (1. / 256. * x) / (16. ** 2. - x * b) - (a * (x ** 2.) / (16. ** 2. ** 2.))\n",
    "\n",
    "ab = curve_fit(vdW, numb_parts, pressure)\n",
    "a = ab[0][0]\n",
    "b = ab[0][1]\n",
    "\n",
    "plt.errorbar(numb_parts, pressure, marker='o', yerr=pressure_std, \n",
    "             ls='', color='#34a5daff', markeredgecolor='black', markersize=12)\n",
    "plt.plot(numb_parts, 0.0142 * 1 / 16 ** 2 * numb_parts, color='#34a5daff', label='Ideal Gaw Law', ls = '-')\n",
    "plt.plot(np.arange(0, 120, 1), vdW(np.arange(0, 120, 1), a, b), color='#34a5daff', label='vdW Equation', ls = '--')\n",
    "\n",
    "plt.xlabel('Number of particles')\n",
    "plt.ylabel('Pressure')\n",
    "plt.legend(frameon=False)\n",
    "plt.show()\n",
    "print(\"a = {:.3f} and b = {:.2f}\".format(a, b))"
   ]
  },
  {
   "cell_type": "code",
   "execution_count": null,
   "metadata": {
    "collapsed": true
   },
   "outputs": [],
   "source": []
  }
 ],
 "metadata": {
  "kernelspec": {
   "display_name": "Python [conda env:pylj]",
   "language": "python",
   "name": "conda-env-pylj-py"
  },
  "language_info": {
   "codemirror_mode": {
    "name": "ipython",
    "version": 3
   },
   "file_extension": ".py",
   "mimetype": "text/x-python",
   "name": "python",
   "nbconvert_exporter": "python",
   "pygments_lexer": "ipython3",
   "version": "3.6.5"
  }
 },
 "nbformat": 4,
 "nbformat_minor": 2
}
