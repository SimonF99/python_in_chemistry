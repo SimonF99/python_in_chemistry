{
 "cells": [
  {
   "cell_type": "code",
   "execution_count": null,
   "metadata": {
    "collapsed": true
   },
   "outputs": [],
   "source": [
    "import warnings\n",
    "from pylj import comp, md, sample, util\n",
    "import numpy as np\n",
    "import matplotlib.pyplot as plt\n",
    "\n",
    "warnings.filterwarnings('ignore')"
   ]
  },
  {
   "cell_type": "markdown",
   "metadata": {},
   "source": [
    "# The ideal gas law\n",
    "\n",
    "## Molecular dynamics\n",
    "\n",
    "Molecular dynamics simulation is a commonly applied, and powerful, technique in many aspects of computational chemistry for the determination of equilibrium & transport properties of a given chemical system. The idea is simple: calculate the forces acting on the atoms in a system and analyse their time-dependent behaviour and motion using Newtonian mechanics, and when enough information on the motion of the atoms, deduce the properties of the system.  \n",
    "\n",
    "The aim of this exercise to use molecular dynamics simulation to investigate the nautre of an ideal gas. This involves the 2-dimensional simulation of argon using [pylj](pythoninchemistry.org/pylj). The function defined below is a typical molecular dynamics simulation where the number of particles, volume of the system, and system temperature are kept constant (this is referred to as the NVT ensemble). \n",
    "\n",
    "Shown below is an example of Python code that can be used to run a molecular dyanmics simulation in the NVT ensemble using pylj. "
   ]
  },
  {
   "cell_type": "code",
   "execution_count": null,
   "metadata": {
    "collapsed": true
   },
   "outputs": [],
   "source": [
    "def md_simulation(number_of_particles, temperature, box_length, number_of_steps, sample_frequency):\n",
    "    # Creates the visualisation environment\n",
    "    %matplotlib notebook\n",
    "    # Initialise the system\n",
    "    system = md.initialise(number_of_particles, temperature, box_length, 'square')\n",
    "    # This sets the sampling class\n",
    "    sample_system = sample.Interactions(system)\n",
    "    # Start at time 0\n",
    "    system.time = 0\n",
    "    # Begin the molecular dynamics loop\n",
    "    for i in range(0, number_of_steps):\n",
    "        # At each step, calculate the forces on each particle \n",
    "        # and get acceleration\n",
    "        system.particles, system.distances, system.forces = comp.compute_forces(system.particles, \n",
    "                                                                                system.distances,\n",
    "                                                                                system.forces, system.box_length)\n",
    "        # Run the equations of motion integrator algorithm\n",
    "        system.particles = md.velocity_verlet(system.particles, system.timestep_length, system.box_length)\n",
    "        # Sample the thermodynamic and structural parameters of the system\n",
    "        system = md.sample(system.particles, system.box_length, system.initial_particles, system)\n",
    "        # Allow the system to interact with a heat bath\n",
    "        system.particles = comp.heat_bath(system.particles, system.temperature_sample, temperature)\n",
    "        # Iterate the time\n",
    "        system.time += system.timestep_length\n",
    "        system.step += 1\n",
    "        # At a given frequency sample the positions and plot the RDF\n",
    "        if system.step % sample_frequency == 0:\n",
    "            sample_system.update(system)\n",
    "    return system"
   ]
  },
  {
   "cell_type": "markdown",
   "metadata": {},
   "source": [
    "This allows a simulation of an arbitrary number of particles at an arbitrary temperature and in a cell of an arbitrary volume. Below we run a simulation of 50 particles at 0 $^\\circ$C in a cell of 10000 Å$^2$. "
   ]
  },
  {
   "cell_type": "code",
   "execution_count": null,
   "metadata": {
    "scrolled": false
   },
   "outputs": [],
   "source": [
    "system = md_simulation(50, 273.15, 100, 10000, 10)"
   ]
  },
  {
   "cell_type": "markdown",
   "metadata": {},
   "source": [
    "## Ideal gas law\n",
    "\n",
    "We are wanting to investigate the nature of the gas ideality. An ideal gas is one that:\n",
    "- consists of point particles \n",
    "- that interact by completely elastic collisions \n",
    "- and obey the following relationship,\n",
    "\n",
    "$$ p = \\frac{Nk_BT}{V}, $$\n",
    "\n",
    "where pressure, $p$, is the observable. This is given as an output plot by pylj and any of $N$, $T$, or $V$ can be varied to investigate this relationship.\n",
    "\n",
    "It is possible to return the average pressure during the entire simulation using the following command. "
   ]
  },
  {
   "cell_type": "code",
   "execution_count": null,
   "metadata": {},
   "outputs": [],
   "source": [
    "print(\"Average pressure = {:.2e} +/- {:.2e} N/m\".format(system.pressure_sample.mean(), \n",
    "                                                        system.pressure_sample.std()))"
   ]
  },
  {
   "cell_type": "markdown",
   "metadata": {},
   "source": [
    "However, it is noted that when the system is not an ideal gas (as is the case with real argon) there may be deviation from the ideal gas law that can be modelled with the van der Waals equation\n",
    "\n",
    "$$ \\bigg[p + a \\frac{N^2}{V^2}\\bigg]\\bigg[\\frac{V}{N}-b\\bigg] = k_BT $$\n",
    "\n",
    "The aim of this exercise is to **design and execute** a computational experiment to investigate the ideal gas law, and any deviation from it that is observed. As a result, calculate values for $a$ and $b$ in the van der Waals equation."
   ]
  },
  {
   "cell_type": "code",
   "execution_count": null,
   "metadata": {
    "collapsed": true
   },
   "outputs": [],
   "source": []
  }
 ],
 "metadata": {
  "kernelspec": {
   "display_name": "Python [conda env:pylj]",
   "language": "python",
   "name": "conda-env-pylj-py"
  },
  "language_info": {
   "codemirror_mode": {
    "name": "ipython",
    "version": 3
   },
   "file_extension": ".py",
   "mimetype": "text/x-python",
   "name": "python",
   "nbconvert_exporter": "python",
   "pygments_lexer": "ipython3",
   "version": "3.6.5"
  },
  "latex_envs": {
   "LaTeX_envs_menu_present": true,
   "autoclose": false,
   "autocomplete": true,
   "bibliofile": "biblio.bib",
   "cite_by": "apalike",
   "current_citInitial": 1,
   "eqLabelWithNumbers": true,
   "eqNumInitial": 1,
   "hotkeys": {
    "equation": "Ctrl-E",
    "itemize": "Ctrl-I"
   },
   "labels_anchors": false,
   "latex_user_defs": false,
   "report_style_numbering": false,
   "user_envs_cfg": false
  }
 },
 "nbformat": 4,
 "nbformat_minor": 2
}
